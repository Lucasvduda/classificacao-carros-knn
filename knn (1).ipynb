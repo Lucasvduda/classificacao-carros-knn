{
  "nbformat": 4,
  "nbformat_minor": 0,
  "metadata": {
    "colab": {
      "provenance": []
    },
    "kernelspec": {
      "name": "python3",
      "display_name": "Python 3"
    },
    "language_info": {
      "name": "python"
    }
  },
  "cells": [
    {
      "cell_type": "code",
      "execution_count": null,
      "metadata": {
        "id": "EpokxYHKFl1p"
      },
      "outputs": [],
      "source": [
        "from sklearn.neighbors import KNeighborsClassifier # Algoritmo de classificação baseado nos vizinhos mais próximos.\n",
        "\n",
        "from sklearn.metrics import accuracy_score, precision_score, recall_score, f1_score, confusion_matrix # Métricas para avaliar o modelo (acurácia, precisão, etc.).\n",
        "\n",
        "import pandas as pd #Função geral: Manipulação de dados tabulares.\n",
        "                    #Usado para: Carregar o dataset mt_cars.csv e manipular colunas.\n",
        "\n",
        "import numpy as np  #Função geral: Operações matemáticas e manipulação de arrays.\n",
        "                    #Usado para: Criar novos dados de teste e calcular distâncias.\n",
        "\n"
      ]
    },
    {
      "cell_type": "markdown",
      "source": [
        "#1. Carregando o Dataset\n",
        "\n"
      ],
      "metadata": {
        "id": "Og_c4xjNMndU"
      }
    },
    {
      "cell_type": "code",
      "source": [
        "mtcars = pd.read_csv('mt_cars.csv') #O que faz: Carrega os dados do arquivo CSV em um DataFrame do pandas.\n",
        "\n",
        "mtcars.head() # Exibe as 5 primeiras linhas do DataFrame para inspecionar os dados."
      ],
      "metadata": {
        "id": "KAusNvOmGkCD"
      },
      "execution_count": null,
      "outputs": []
    },
    {
      "cell_type": "markdown",
      "source": [
        "#. Separando Variáveis de Entrada (X) e Saída (y)\n"
      ],
      "metadata": {
        "id": "J-LEL1dMM9Ms"
      }
    },
    {
      "cell_type": "code",
      "source": [
        "X = mtcars[['mpg','hp']].values #X (Entradas): Colunas mpg (milhas por galão) e hp (cavalos de potência).\n",
        "\n",
        "# O '.values' transforma essas colunas em uma matriz NumPy para uso no modelo.\n",
        "\n",
        "y = mtcars['cyl'].values  #y (Saída): Coluna cyl (número de cilindros), que é o rótulo para classificação."
      ],
      "metadata": {
        "id": "MlDMQW0rHK-a"
      },
      "execution_count": null,
      "outputs": []
    },
    {
      "cell_type": "markdown",
      "source": [
        "#4. Criando e Treinando o Modelo KNN"
      ],
      "metadata": {
        "id": "KiX6PILMNguR"
      }
    },
    {
      "cell_type": "code",
      "source": [
        "knn = KNeighborsClassifier(n_neighbors=3)#Cria um modelo KNN com 3 vizinhos mais próximos (n_neighbors=3).\n",
        "\n",
        "modelo = knn.fit(X,y)#Ajusta o modelo KNN aos dados de entrada (X) e saída (y)."
      ],
      "metadata": {
        "id": "fTnUiX5nHkzE"
      },
      "execution_count": null,
      "outputs": []
    },
    {
      "cell_type": "code",
      "source": [
        "modelo"
      ],
      "metadata": {
        "id": "bPpaam5xISM_"
      },
      "execution_count": null,
      "outputs": []
    },
    {
      "cell_type": "markdown",
      "source": [
        "#5. Fazendo Previsões"
      ],
      "metadata": {
        "id": "q3Oq0eaANwNx"
      }
    },
    {
      "cell_type": "code",
      "source": [
        "y_prev = modelo.predict(X) #O que faz: Usa o próprio conjunto de dados para prever os valores de cyl.\n",
        "\n",
        "print(y_prev)"
      ],
      "metadata": {
        "id": "VEf-XXFaIWDU"
      },
      "execution_count": null,
      "outputs": []
    },
    {
      "cell_type": "markdown",
      "source": [
        "#6. Avaliando o Modelo"
      ],
      "metadata": {
        "id": "yWs9N9xWN3AR"
      }
    },
    {
      "cell_type": "code",
      "source": [
        "accuracy = accuracy_score(y,y_prev)\n",
        "precision = precision_score(y,y_prev,average='weighted')\n",
        "recall = recall_score(y,y_prev,average='weighted')\n",
        "f1 = f1_score(y,y_prev,average='weighted')\n",
        "#Avalia a performance do modelo comparando os valores reais (y) com as previsões (y_prev).\n",
        "\n",
        "cm = confusion_matrix(y,y_prev)#Compara as previsões feitas com os valores reais em uma tabela.\n",
        "\n",
        "print('Accuracy:',accuracy)\n",
        "print('Precision:',precision)\n",
        "print('Recall:',recall)\n",
        "print('F1:',f1)\n",
        "print('Confusion Matrix:\\n',cm)"
      ],
      "metadata": {
        "id": "uE16WI1dIe9i"
      },
      "execution_count": null,
      "outputs": []
    },
    {
      "cell_type": "markdown",
      "source": [
        "#7. Testando Novos Dados"
      ],
      "metadata": {
        "id": "roAee3wrOG4p"
      }
    },
    {
      "cell_type": "code",
      "source": [
        "# mpg e hp\n",
        "new_data = np.array([[19.3,105]]) #new_data: Representa um novo carro com 19.3 milhas por galão e 105 cavalos de potência.\n",
        "\n",
        "previsao = modelo.predict(new_data) #predict: Classifica o carro com base nos vizinhos mais próximos.\n",
        "print(previsao)\n",
        "\n",
        "distancias, indices = modelo.kneighbors(new_data)\n",
        "print(distancias)#Distâncias: As distâncias entre o novo ponto e os vizinhos mais próximos.\n",
        "\n",
        "print(indices)  #Índices: As posições dos vizinhos no dataset original."
      ],
      "metadata": {
        "id": "VuudMN5hJay4"
      },
      "execution_count": null,
      "outputs": []
    },
    {
      "cell_type": "code",
      "source": [
        "mtcars.loc[[1,5,31],['cyl','mpg','hp']]#8. Conferindo Detalhes dos Vizinhos\n",
        "#Localiza os carros correspondentes aos índices dos vizinhos mais próximos.\n",
        "\n",
        "#Mostra os valores de cyl, mpg, e hp desses vizinhos.\n",
        "\n"
      ],
      "metadata": {
        "id": "zvYOoyxgKDQm"
      },
      "execution_count": null,
      "outputs": []
    }
  ]
}